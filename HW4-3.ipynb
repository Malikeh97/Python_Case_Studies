{
 "cells": [
  {
   "cell_type": "markdown",
   "metadata": {},
   "source": [
    "# Using Python for Research Homework: Week 4, Case Study 3\n",
    "\n",
    "Homophily is a property of networks.  Homophily occurs when nodes that are neighbors in a network also share a characteristic more often than nodes that are not network neighbors.  In this case study, we will investigate homophily of several characteristics of individuals connected in social networks in rural India."
   ]
  },
  {
   "cell_type": "markdown",
   "metadata": {},
   "source": [
    "### Exercise 1\n",
    "In Exercise 1, we will calculate the chance homophily for an arbitrary characteristic. Homophily is the proportion of edges in the network whose constituent nodes share that characteristic.\n",
    "\n",
    "How much homophily do we expect by chance? If characteristics are distributed completely randomly, the probability that two nodes \\(x\\) and \\(y\\) share characteristic \\(a\\) is the probability both nodes have characteristic \\(a\\) , which is the marginal probability of \\(a\\) squared. The total probability that nodes \\(x\\) and \\(y\\) share their characteristic is therefore the sum of the square of the marginal probabilities of each characteristic in the network.\n",
    "\n",
    "<strong>Instructions</strong>\n",
    "<ul><li>Create a function <code>marginal_prob</code> that takes a dictionary <code>chars</code> with personal IDs as keys and characteristics as values; it should return a dictionary with characteristics as keys and their marginal probability (frequency of occurence of a characteristic divided by the sum of frequencies of each characteristic) as values.</li>\n",
    "<li>Create a function <code>chance_homophily(chars)</code> that takes a dictionary <code>chars</code> defined as above and computes the chance homophily (homophily due to chance alone) for that characteristic.</li>\n",
    "<li>A sample of three peoples' favorite colors is given in <code>favorite_colors</code>. Use your function to compute the chance homophily in this group, and store it as <code>color_homophily</code>.</li>\n",
    "<li>Print <code>color_homophily</code>.</li></ul>"
   ]
  },
  {
   "cell_type": "code",
   "execution_count": 73,
   "metadata": {},
   "outputs": [
    {
     "name": "stdout",
     "output_type": "stream",
     "text": [
      "0.5555555555555556\n"
     ]
    }
   ],
   "source": [
    "from collections import Counter\n",
    "import numpy as np\n",
    "\n",
    "def marginal_prob(chars):\n",
    "    marginal_probs = {}\n",
    "    for character in chars.values():\n",
    "        marginal_probs[character] = Counter(chars.values())[character] / len(chars)\n",
    "    return marginal_probs\n",
    "        \n",
    "    \n",
    "def chance_homophily(chars):\n",
    "    chance_homophilies = 0 \n",
    "    marginal_probs = marginal_prob(chars)\n",
    "    for character in marginal_probs.keys():\n",
    "        chance_homophilies += (marginal_probs[character]**2)\n",
    "    return chance_homophilies\n",
    "\n",
    "favorite_colors = {\n",
    "    \"ankit\":  \"red\",\n",
    "    \"xiaoyu\": \"blue\",\n",
    "    \"mary\":   \"blue\"\n",
    "}\n",
    "\n",
    "color_homophily = chance_homophily(favorite_colors)\n",
    "print(color_homophily)\n"
   ]
  },
  {
   "cell_type": "markdown",
   "metadata": {},
   "source": [
    "### Exercise 2\n",
    "\n",
    "In the remaining exercises, we will calculate actual homophily in these village and compare the obtained values to those obtained by chance. In this exercise, we subset the data into individual villages and store them.\n",
    "\n",
    "#### Instructions \n",
    "\n",
    "- `individual_characteristics.dta` contains several characteristics for each individual in the dataset such as age, religion, and caste. Use the `pandas` library to read in and store these characteristics as a dataframe called `df`.\n",
    "- Store separate datasets for individuals belonging to Villages 1 and 2 as `df1` and `df2`, respectively.\n",
    "- Note that some attributes may be missing for some individuals. In this case study, we will ignore rows of data where some column information is missing.\n",
    "- Use the head method to display the first few entries of `df1`."
   ]
  },
  {
   "cell_type": "code",
   "execution_count": 108,
   "metadata": {},
   "outputs": [
    {
     "name": "stdout",
     "output_type": "stream",
     "text": [
      "   village  adjmatrix_key     pid  hhid  resp_id  resp_gend  \\\n",
      "0        1              5  100201  1002        1          1   \n",
      "1        1              6  100202  1002        2          2   \n",
      "2        1             23  100601  1006        1          1   \n",
      "3        1             24  100602  1006        2          2   \n",
      "4        1             27  100701  1007        1          1   \n",
      "\n",
      "                   resp_status  age  religion caste        ...         \\\n",
      "0            Head of Household   38  HINDUISM   OBC        ...          \n",
      "1  Spouse of Head of Household   27  HINDUISM   OBC        ...          \n",
      "2            Head of Household   29  HINDUISM   OBC        ...          \n",
      "3  Spouse of Head of Household   24  HINDUISM   OBC        ...          \n",
      "4            Head of Household   58  HINDUISM   OBC        ...          \n",
      "\n",
      "        privategovt work_outside work_outside_freq shgparticipate shg_no  \\\n",
      "0  PRIVATE BUSINESS          Yes               0.0             No    NaN   \n",
      "1               NaN          NaN               NaN             No    NaN   \n",
      "2        OTHER LAND           No               NaN             No    NaN   \n",
      "3  PRIVATE BUSINESS           No               NaN            Yes    1.0   \n",
      "4        OTHER LAND           No               NaN             No    NaN   \n",
      "\n",
      "  savings savings_no electioncard rationcard rationcard_colour  \n",
      "0      No        NaN          Yes        Yes             GREEN  \n",
      "1      No        NaN          Yes        Yes             GREEN  \n",
      "2      No        NaN          Yes        Yes             GREEN  \n",
      "3     Yes        1.0          Yes         No               NaN  \n",
      "4      No        NaN          Yes        Yes             GREEN  \n",
      "\n",
      "[5 rows x 48 columns]\n"
     ]
    }
   ],
   "source": [
    "import pandas as pd\n",
    "\n",
    "df  = pd.read_csv(\"individual_characteristics.csv\", low_memory=False, index_col=0)\n",
    "\n",
    "df1 = df[df['village'] == 1]\n",
    "df2 = df[df['village'] == 2]\n",
    "\n",
    "# Enter code here!\n",
    "print(df1.head())"
   ]
  },
  {
   "cell_type": "markdown",
   "metadata": {},
   "source": [
    "### Exercise 3 \n",
    "\n",
    "In this exercise, we define a few dictionaries that enable us to look up the sex, caste, and religion of members of each village by personal ID. For Villages 1 and 2, their personal IDs are stored as `pid`.\n",
    "\n",
    "#### Instructions \n",
    "- Define dictionaries with personal IDs as keys and a given covariate for that individual as values. Complete this for the sex, caste, and religion covariates, for Villages 1 and 2.\n",
    "- For Village 1, store these dictionaries into variables named `sex1`, `caste1`, and `religion1`.\n",
    "- For Village 2, store these dictionaries into variables named `sex2`, `caste2`, and `religion2`."
   ]
  },
  {
   "cell_type": "code",
   "execution_count": 126,
   "metadata": {},
   "outputs": [
    {
     "name": "stdout",
     "output_type": "stream",
     "text": [
      "{200101: 'HINDUISM', 200201: 'HINDUISM', 200202: 'HINDUISM', 200401: 'HINDUISM', 200402: 'HINDUISM', 200601: 'HINDUISM', 200602: 'HINDUISM', 200603: 'HINDUISM', 200604: 'HINDUISM', 200901: 'HINDUISM', 200902: 'HINDUISM', 201001: 'HINDUISM', 201002: 'HINDUISM', 201102: 'HINDUISM', 201103: 'HINDUISM', 201201: 'HINDUISM', 201202: 'HINDUISM', 201203: 'HINDUISM', 201204: 'HINDUISM', 201205: 'HINDUISM', 201206: 'HINDUISM', 201301: 'HINDUISM', 201302: 'HINDUISM', 201501: 'HINDUISM', 201502: 'HINDUISM', 201601: 'HINDUISM', 201602: 'HINDUISM', 201801: 'HINDUISM', 201802: 'HINDUISM', 202001: 'HINDUISM', 202002: 'HINDUISM', 202401: 'HINDUISM', 202402: 'HINDUISM', 202501: 'HINDUISM', 202502: 'HINDUISM', 202601: 'HINDUISM', 202602: 'HINDUISM', 202801: 'HINDUISM', 202802: 'HINDUISM', 202803: 'HINDUISM', 203201: 'HINDUISM', 203202: 'HINDUISM', 203301: 'HINDUISM', 203302: 'HINDUISM', 203601: 'HINDUISM', 203602: 'HINDUISM', 203701: 'HINDUISM', 203702: 'HINDUISM', 204501: 'HINDUISM', 204502: 'HINDUISM', 204504: 'HINDUISM', 204601: 'HINDUISM', 204602: 'HINDUISM', 205001: 'HINDUISM', 205002: 'HINDUISM', 205004: 'HINDUISM', 205101: 'HINDUISM', 205102: 'HINDUISM', 205301: 'HINDUISM', 205302: 'HINDUISM', 205401: 'HINDUISM', 205402: 'HINDUISM', 205501: 'HINDUISM', 205502: 'HINDUISM', 205601: 'HINDUISM', 205602: 'HINDUISM', 206001: 'HINDUISM', 206002: 'HINDUISM', 206201: 'HINDUISM', 206202: 'HINDUISM', 206601: 'HINDUISM', 206602: 'HINDUISM', 206901: 'HINDUISM', 206902: 'HINDUISM', 206903: 'HINDUISM', 206904: 'HINDUISM', 206908: 'HINDUISM', 206909: 'HINDUISM', 207101: 'HINDUISM', 207102: 'HINDUISM', 207401: 'HINDUISM', 207402: 'HINDUISM', 207403: 'HINDUISM', 207801: 'HINDUISM', 207802: 'HINDUISM', 208102: 'HINDUISM', 208201: 'HINDUISM', 208202: 'HINDUISM', 208301: 'HINDUISM', 208302: 'HINDUISM', 208401: 'HINDUISM', 208402: 'HINDUISM', 208501: 'HINDUISM', 208502: 'HINDUISM', 208503: 'HINDUISM', 208601: 'HINDUISM', 208602: 'HINDUISM', 208603: 'HINDUISM', 208701: 'HINDUISM', 208801: 'HINDUISM', 208802: 'HINDUISM', 208803: 'HINDUISM', 208804: 'HINDUISM', 208805: 'HINDUISM', 208901: 'HINDUISM', 208902: 'HINDUISM', 209301: 'HINDUISM', 209302: 'HINDUISM', 209501: 'HINDUISM', 209502: 'HINDUISM', 209503: 'HINDUISM', 209504: 'HINDUISM', 209601: 'HINDUISM', 209602: 'HINDUISM', 209801: 'HINDUISM', 209802: 'HINDUISM', 209803: 'HINDUISM', 209804: 'HINDUISM', 209805: 'HINDUISM', 210401: 'HINDUISM', 210402: 'HINDUISM', 210403: 'HINDUISM', 210404: 'HINDUISM', 210501: 'HINDUISM', 210502: 'HINDUISM', 210505: 'HINDUISM', 210601: 'HINDUISM', 210602: 'HINDUISM', 210701: 'HINDUISM', 210702: 'HINDUISM', 210901: 'HINDUISM', 210902: 'HINDUISM', 211101: 'HINDUISM', 211102: 'HINDUISM', 211801: 'HINDUISM', 211802: 'HINDUISM', 211805: 'HINDUISM', 211901: 'HINDUISM', 211902: 'HINDUISM', 211903: 'HINDUISM', 211904: 'HINDUISM', 212101: 'HINDUISM', 212102: 'HINDUISM', 212301: 'HINDUISM', 212302: 'HINDUISM', 212303: 'HINDUISM', 212304: 'HINDUISM', 212306: 'HINDUISM', 212307: 'HINDUISM', 212401: 'HINDUISM', 212402: 'HINDUISM', 213001: 'HINDUISM', 213002: 'HINDUISM', 213003: 'HINDUISM', 213004: 'HINDUISM', 213101: 'HINDUISM', 213102: 'HINDUISM', 213701: 'HINDUISM', 213702: 'HINDUISM', 213801: 'HINDUISM', 213802: 'HINDUISM', 214101: 'HINDUISM', 214102: 'HINDUISM', 214103: 'HINDUISM', 214104: 'HINDUISM', 214201: 'HINDUISM', 214202: 'HINDUISM', 214203: 'HINDUISM', 214206: 'HINDUISM', 214401: 'HINDUISM', 214402: 'HINDUISM', 214501: 'HINDUISM', 214502: 'HINDUISM', 214503: 'HINDUISM', 214504: 'HINDUISM', 214901: 'HINDUISM', 214902: 'HINDUISM', 215401: 'HINDUISM', 215402: 'HINDUISM', 215701: 'HINDUISM', 215702: 'HINDUISM', 215703: 'HINDUISM', 215704: 'HINDUISM', 215901: 'HINDUISM', 215902: 'HINDUISM', 216101: 'HINDUISM', 216102: 'HINDUISM', 216401: 'HINDUISM', 216402: 'HINDUISM', 216403: 'HINDUISM', 216404: 'HINDUISM', 216701: 'HINDUISM', 216702: 'HINDUISM', 216801: 'HINDUISM', 216802: 'HINDUISM', 216803: 'HINDUISM', 216804: 'HINDUISM', 216901: 'HINDUISM', 216902: 'HINDUISM', 216903: 'HINDUISM', 216904: 'HINDUISM', 216905: 'HINDUISM', 216906: 'HINDUISM'}\n"
     ]
    }
   ],
   "source": [
    "df11=df1.set_index('pid')\n",
    "df22=df2.set_index('pid')\n",
    "\n",
    "#transform to dictionary with method .to_dict()\n",
    "sex1=df11.resp_gend.to_dict()\n",
    "caste1=df11.caste.to_dict()\n",
    "religion1 =df11.religion.to_dict()\n",
    "\n",
    "\n",
    "sex2=df22.resp_gend.to_dict()\n",
    "caste2=df22.caste.to_dict()\n",
    "religion2 =df22.religion.to_dict()\n",
    "print(religion2)"
   ]
  },
  {
   "cell_type": "markdown",
   "metadata": {},
   "source": [
    "### Exercise 4\n",
    "\n",
    "In this exercise, we will print the chance homophily of several characteristics of Villages 1 and 2. \n",
    "\n",
    "#### Instructions \n",
    "-  Use `chance_homophily` to compute the chance homophily for sex, caste, and religion In Villages 1 and 2. Is the chance homophily for any attribute very high for either village?"
   ]
  },
  {
   "cell_type": "code",
   "execution_count": 127,
   "metadata": {},
   "outputs": [
    {
     "name": "stdout",
     "output_type": "stream",
     "text": [
      "0.5027299861680701\n",
      "0.6741488509791551\n",
      "0.9804896988521925\n",
      "0.5005945303210464\n",
      "0.425368244800893\n",
      "1.0\n"
     ]
    }
   ],
   "source": [
    "# Enter your code here.\n",
    "print(chance_homophily(sex1))\n",
    "print(chance_homophily(caste1))\n",
    "print(chance_homophily(religion1))\n",
    "\n",
    "print(chance_homophily(sex2))\n",
    "print(chance_homophily(caste2))\n",
    "print(chance_homophily(religion2))"
   ]
  },
  {
   "cell_type": "markdown",
   "metadata": {},
   "source": [
    "### Exercise 5\n",
    "\n",
    "In this exercise, we will create a function that computes the observed homophily given a village and characteristic.\n",
    "\n",
    "#### Instructions \n",
    "- Complete the function `homophily()`, which takes a network `G`, a dictionary of node characteristics `chars`, and node IDs `IDs`. For each node pair, determine whether a tie exists between them, as well as whether they share a characteristic. The total count of these is `num_ties` and `num_same_ties`, respectively, and their ratio is the homophily of chars in `G`. Complete the function by choosing where to increment `num_same_ties` and `num_ties`."
   ]
  },
  {
   "cell_type": "code",
   "execution_count": 128,
   "metadata": {},
   "outputs": [],
   "source": [
    "def homophily(G, chars, IDs):\n",
    "    \"\"\"\n",
    "    Given a network G, a dict of characteristics chars for node IDs,\n",
    "    and dict of node IDs for each node in the network,\n",
    "    find the homophily of the network.\n",
    "    \"\"\"\n",
    "    num_same_ties = 0\n",
    "    num_ties = 0\n",
    "    for n1, n2 in G.edges():\n",
    "        if IDs[n1] in chars and IDs[n2] in chars:\n",
    "            if G.has_edge(n1, n2):\n",
    "                num_ties += 1\n",
    "                if chars[IDs[n1]] == chars[IDs[n2]]:\n",
    "                    num_same_ties += 1\n",
    "    return (num_same_ties / num_ties)    "
   ]
  },
  {
   "cell_type": "markdown",
   "metadata": {},
   "source": [
    "### Exercise 6\n",
    "\n",
    "In this exercise, we will obtain the personal IDs for Villages 1 and 2. These will be used in the next exercise to calculate homophily for these villages.\n",
    "\n",
    "#### Instructions \n",
    "- In this dataset, each individual has a personal ID, or PID, stored in `key_vilno_1.csv` and `key_vilno_2.csv` for villages 1 and 2, respectively. `data_filepath1` and `data_filepath2` contain the URLs to the datasets used in this exercise. Use `pd.read_csv` to read in and store `key_vilno_1.csv` and `key_vilno_2.csv` as `pid1` and `pid2` respectively. "
   ]
  },
  {
   "cell_type": "code",
   "execution_count": 138,
   "metadata": {},
   "outputs": [
    {
     "name": "stdout",
     "output_type": "stream",
     "text": [
      "Unnamed: 0       100\n",
      "0             102205\n",
      "Name: 100, dtype: int64\n"
     ]
    }
   ],
   "source": [
    "data_filepath1 = \"https://courses.edx.org/asset-v1:HarvardX+PH526x+2T2019+type@asset+block@key_vilno_1.csv\"\n",
    "data_filepath2 = \"https://courses.edx.org/asset-v1:HarvardX+PH526x+2T2019+type@asset+block@key_vilno_2.csv\"\n",
    "\n",
    "# Enter code here!\n",
    "pid1 = pd.read_csv(data_filepath1)\n",
    "pid2 = pd.read_csv(data_filepath2)\n",
    "print(pid1.iloc[100])"
   ]
  },
  {
   "cell_type": "markdown",
   "metadata": {},
   "source": [
    "### Exercise 7\n",
    "\n",
    "In this exercise, we will compute the homophily of several network characteristics for Villages 1 and 2 and compare them to homophily due to chance alone. The networks for these villages have been stored as networkx graph objects `G1` and `G2`.\n",
    "\n",
    "#### Instructions \n",
    "\n",
    "- Use your `homophily()` function to compute the observed homophily for sex, caste, and religion in Villages 1 and 2. Print all six values.\n",
    "- Use the `chance_homophily()` to compare these values to chance homophily. Are these values higher or lower than that expected by chance?"
   ]
  },
  {
   "cell_type": "code",
   "execution_count": 147,
   "metadata": {},
   "outputs": [
    {
     "name": "stdout",
     "output_type": "stream",
     "text": [
      "True\n",
      "True\n",
      "True\n",
      "True\n",
      "True\n",
      "False\n"
     ]
    }
   ],
   "source": [
    "import networkx as nx\n",
    "A1 = np.array(pd.read_csv(\"https://courses.edx.org/asset-v1:HarvardX+PH526x+2T2019+type@asset+block@adj_allVillageRelationships_vilno1.csv\", index_col=0))\n",
    "A2 = np.array(pd.read_csv(\"https://courses.edx.org/asset-v1:HarvardX+PH526x+2T2019+type@asset+block@adj_allVillageRelationships_vilno2.csv\", index_col=0))\n",
    "G1 = nx.to_networkx_graph(A1)\n",
    "G2 = nx.to_networkx_graph(A2)\n",
    "\n",
    "pid1 = pd.read_csv(data_filepath1, dtype=int)['0'].to_dict()\n",
    "pid2 = pd.read_csv(data_filepath2, dtype=int)['0'].to_dict()\n",
    "\n",
    "# Enter your code here!\n",
    "print(homophily(G1, sex1, pid1) > chance_homophily(sex1))\n",
    "print(homophily(G1, caste1, pid1) > chance_homophily(caste1))\n",
    "print(homophily(G1, religion1, pid1) > chance_homophily(religion1))\n",
    "\n",
    "print(homophily(G2, sex2, pid2) > chance_homophily(sex2))\n",
    "print(homophily(G2, caste2, pid2) > chance_homophily(caste2))\n",
    "print(homophily(G2, religion2, pid2) > chance_homophily(religion2))"
   ]
  },
  {
   "cell_type": "code",
   "execution_count": null,
   "metadata": {},
   "outputs": [],
   "source": []
  }
 ],
 "metadata": {
  "kernelspec": {
   "display_name": "Python 3",
   "language": "python",
   "name": "python3"
  },
  "language_info": {
   "codemirror_mode": {
    "name": "ipython",
    "version": 3
   },
   "file_extension": ".py",
   "mimetype": "text/x-python",
   "name": "python",
   "nbconvert_exporter": "python",
   "pygments_lexer": "ipython3",
   "version": "3.7.0"
  },
  "toc": {
   "base_numbering": 1,
   "nav_menu": {},
   "number_sections": false,
   "sideBar": true,
   "skip_h1_title": false,
   "title_cell": "Table of Contents",
   "title_sidebar": "Contents",
   "toc_cell": false,
   "toc_position": {},
   "toc_section_display": true,
   "toc_window_display": true
  }
 },
 "nbformat": 4,
 "nbformat_minor": 2
}
