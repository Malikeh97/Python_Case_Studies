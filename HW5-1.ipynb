{
 "cells": [
  {
   "cell_type": "markdown",
   "metadata": {},
   "source": [
    "# Using Python for Research Homework: Week 5, Case Study Part 1\n",
    "\n",
    "The [movie dataset on which this case study is based](https://www.kaggle.com/tmdb/tmdb-movie-metadata) is a database of 5000 movies catalogued by [The Movie Database (TMDb)](https://www.themoviedb.org/?language=en). The information available about each movie is its budget, revenue, rating, actors and actresses, etc. In this case study, we will use this dataset to determine whether any information about a movie can predict the total revenue of a movie. We will also attempt to predict whether a movie's revenue will exceed its budget.\n",
    "\n",
    "In Part 1, we will inspect, clean, and transform the data."
   ]
  },
  {
   "cell_type": "markdown",
   "metadata": {},
   "source": [
    "### Exercise 1\n",
    "\n",
    "First, we will import several libraries. `scikit-learn` (**sklearn**) contains helpful statistical models, and we'll use the `matplotlib.pyplot` library for visualizations. Of course, we will use `numpy` and `pandas` for data manipulation throughout.\n",
    "\n",
    "#### Instructions \n",
    "\n",
    "- Read and execute the given code.\n",
    "- Call `df.head()` to take a look at the data."
   ]
  },
  {
   "cell_type": "code",
   "execution_count": 49,
   "metadata": {},
   "outputs": [
    {
     "data": {
      "text/html": [
       "<div>\n",
       "<style scoped>\n",
       "    .dataframe tbody tr th:only-of-type {\n",
       "        vertical-align: middle;\n",
       "    }\n",
       "\n",
       "    .dataframe tbody tr th {\n",
       "        vertical-align: top;\n",
       "    }\n",
       "\n",
       "    .dataframe thead th {\n",
       "        text-align: right;\n",
       "    }\n",
       "</style>\n",
       "<table border=\"1\" class=\"dataframe\">\n",
       "  <thead>\n",
       "    <tr style=\"text-align: right;\">\n",
       "      <th></th>\n",
       "      <th>budget</th>\n",
       "      <th>genres</th>\n",
       "      <th>homepage</th>\n",
       "      <th>id</th>\n",
       "      <th>keywords</th>\n",
       "      <th>original_language</th>\n",
       "      <th>original_title</th>\n",
       "      <th>overview</th>\n",
       "      <th>popularity</th>\n",
       "      <th>production_companies</th>\n",
       "      <th>...</th>\n",
       "      <th>revenue</th>\n",
       "      <th>runtime</th>\n",
       "      <th>spoken_languages</th>\n",
       "      <th>status</th>\n",
       "      <th>tagline</th>\n",
       "      <th>title</th>\n",
       "      <th>vote_average</th>\n",
       "      <th>vote_count</th>\n",
       "      <th>movie_id</th>\n",
       "      <th>cast</th>\n",
       "    </tr>\n",
       "  </thead>\n",
       "  <tbody>\n",
       "    <tr>\n",
       "      <th>0</th>\n",
       "      <td>237000000</td>\n",
       "      <td>Action, Adventure, Fantasy, Science Fiction</td>\n",
       "      <td>http://www.avatarmovie.com/</td>\n",
       "      <td>19995</td>\n",
       "      <td>culture clash, future, space war, space colony...</td>\n",
       "      <td>en</td>\n",
       "      <td>Avatar</td>\n",
       "      <td>In the 22nd century, a paraplegic Marine is di...</td>\n",
       "      <td>150.437577</td>\n",
       "      <td>Ingenious Film Partners, Twentieth Century Fox...</td>\n",
       "      <td>...</td>\n",
       "      <td>2787965087</td>\n",
       "      <td>162.0</td>\n",
       "      <td>English, Español</td>\n",
       "      <td>Released</td>\n",
       "      <td>Enter the World of Pandora.</td>\n",
       "      <td>Avatar</td>\n",
       "      <td>7.2</td>\n",
       "      <td>11800</td>\n",
       "      <td>19995</td>\n",
       "      <td>Sam Worthington, Zoe Saldana, Sigourney Weaver...</td>\n",
       "    </tr>\n",
       "    <tr>\n",
       "      <th>1</th>\n",
       "      <td>300000000</td>\n",
       "      <td>Adventure, Fantasy, Action</td>\n",
       "      <td>http://disney.go.com/disneypictures/pirates/</td>\n",
       "      <td>285</td>\n",
       "      <td>ocean, drug abuse, exotic island, east india t...</td>\n",
       "      <td>en</td>\n",
       "      <td>Pirates of the Caribbean: At World's End</td>\n",
       "      <td>Captain Barbossa, long believed to be dead, ha...</td>\n",
       "      <td>139.082615</td>\n",
       "      <td>Walt Disney Pictures, Jerry Bruckheimer Films,...</td>\n",
       "      <td>...</td>\n",
       "      <td>961000000</td>\n",
       "      <td>169.0</td>\n",
       "      <td>English</td>\n",
       "      <td>Released</td>\n",
       "      <td>At the end of the world, the adventure begins.</td>\n",
       "      <td>Pirates of the Caribbean: At World's End</td>\n",
       "      <td>6.9</td>\n",
       "      <td>4500</td>\n",
       "      <td>285</td>\n",
       "      <td>Johnny Depp, Orlando Bloom, Keira Knightley, S...</td>\n",
       "    </tr>\n",
       "    <tr>\n",
       "      <th>2</th>\n",
       "      <td>245000000</td>\n",
       "      <td>Action, Adventure, Crime</td>\n",
       "      <td>http://www.sonypictures.com/movies/spectre/</td>\n",
       "      <td>206647</td>\n",
       "      <td>spy, based on novel, secret agent, sequel, mi6...</td>\n",
       "      <td>en</td>\n",
       "      <td>Spectre</td>\n",
       "      <td>A cryptic message from Bond’s past sends him o...</td>\n",
       "      <td>107.376788</td>\n",
       "      <td>Columbia Pictures, Danjaq, B24</td>\n",
       "      <td>...</td>\n",
       "      <td>880674609</td>\n",
       "      <td>148.0</td>\n",
       "      <td>Français, English, Español, Italiano, Deutsch</td>\n",
       "      <td>Released</td>\n",
       "      <td>A Plan No One Escapes</td>\n",
       "      <td>Spectre</td>\n",
       "      <td>6.3</td>\n",
       "      <td>4466</td>\n",
       "      <td>206647</td>\n",
       "      <td>Daniel Craig, Christoph Waltz, Léa Seydoux, Ra...</td>\n",
       "    </tr>\n",
       "    <tr>\n",
       "      <th>3</th>\n",
       "      <td>250000000</td>\n",
       "      <td>Action, Crime, Drama, Thriller</td>\n",
       "      <td>http://www.thedarkknightrises.com/</td>\n",
       "      <td>49026</td>\n",
       "      <td>dc comics, crime fighter, terrorist, secret id...</td>\n",
       "      <td>en</td>\n",
       "      <td>The Dark Knight Rises</td>\n",
       "      <td>Following the death of District Attorney Harve...</td>\n",
       "      <td>112.312950</td>\n",
       "      <td>Legendary Pictures, Warner Bros., DC Entertain...</td>\n",
       "      <td>...</td>\n",
       "      <td>1084939099</td>\n",
       "      <td>165.0</td>\n",
       "      <td>English</td>\n",
       "      <td>Released</td>\n",
       "      <td>The Legend Ends</td>\n",
       "      <td>The Dark Knight Rises</td>\n",
       "      <td>7.6</td>\n",
       "      <td>9106</td>\n",
       "      <td>49026</td>\n",
       "      <td>Christian Bale, Michael Caine, Gary Oldman, An...</td>\n",
       "    </tr>\n",
       "    <tr>\n",
       "      <th>4</th>\n",
       "      <td>260000000</td>\n",
       "      <td>Action, Adventure, Science Fiction</td>\n",
       "      <td>http://movies.disney.com/john-carter</td>\n",
       "      <td>49529</td>\n",
       "      <td>based on novel, mars, medallion, space travel,...</td>\n",
       "      <td>en</td>\n",
       "      <td>John Carter</td>\n",
       "      <td>John Carter is a war-weary, former military ca...</td>\n",
       "      <td>43.926995</td>\n",
       "      <td>Walt Disney Pictures</td>\n",
       "      <td>...</td>\n",
       "      <td>284139100</td>\n",
       "      <td>132.0</td>\n",
       "      <td>English</td>\n",
       "      <td>Released</td>\n",
       "      <td>Lost in our world, found in another.</td>\n",
       "      <td>John Carter</td>\n",
       "      <td>6.1</td>\n",
       "      <td>2124</td>\n",
       "      <td>49529</td>\n",
       "      <td>Taylor Kitsch, Lynn Collins, Samantha Morton, ...</td>\n",
       "    </tr>\n",
       "  </tbody>\n",
       "</table>\n",
       "<p>5 rows × 22 columns</p>\n",
       "</div>"
      ],
      "text/plain": [
       "      budget                                       genres  \\\n",
       "0  237000000  Action, Adventure, Fantasy, Science Fiction   \n",
       "1  300000000                   Adventure, Fantasy, Action   \n",
       "2  245000000                     Action, Adventure, Crime   \n",
       "3  250000000               Action, Crime, Drama, Thriller   \n",
       "4  260000000           Action, Adventure, Science Fiction   \n",
       "\n",
       "                                       homepage      id  \\\n",
       "0                   http://www.avatarmovie.com/   19995   \n",
       "1  http://disney.go.com/disneypictures/pirates/     285   \n",
       "2   http://www.sonypictures.com/movies/spectre/  206647   \n",
       "3            http://www.thedarkknightrises.com/   49026   \n",
       "4          http://movies.disney.com/john-carter   49529   \n",
       "\n",
       "                                            keywords original_language  \\\n",
       "0  culture clash, future, space war, space colony...                en   \n",
       "1  ocean, drug abuse, exotic island, east india t...                en   \n",
       "2  spy, based on novel, secret agent, sequel, mi6...                en   \n",
       "3  dc comics, crime fighter, terrorist, secret id...                en   \n",
       "4  based on novel, mars, medallion, space travel,...                en   \n",
       "\n",
       "                             original_title  \\\n",
       "0                                    Avatar   \n",
       "1  Pirates of the Caribbean: At World's End   \n",
       "2                                   Spectre   \n",
       "3                     The Dark Knight Rises   \n",
       "4                               John Carter   \n",
       "\n",
       "                                            overview  popularity  \\\n",
       "0  In the 22nd century, a paraplegic Marine is di...  150.437577   \n",
       "1  Captain Barbossa, long believed to be dead, ha...  139.082615   \n",
       "2  A cryptic message from Bond’s past sends him o...  107.376788   \n",
       "3  Following the death of District Attorney Harve...  112.312950   \n",
       "4  John Carter is a war-weary, former military ca...   43.926995   \n",
       "\n",
       "                                production_companies  \\\n",
       "0  Ingenious Film Partners, Twentieth Century Fox...   \n",
       "1  Walt Disney Pictures, Jerry Bruckheimer Films,...   \n",
       "2                     Columbia Pictures, Danjaq, B24   \n",
       "3  Legendary Pictures, Warner Bros., DC Entertain...   \n",
       "4                               Walt Disney Pictures   \n",
       "\n",
       "                         ...                             revenue runtime  \\\n",
       "0                        ...                          2787965087   162.0   \n",
       "1                        ...                           961000000   169.0   \n",
       "2                        ...                           880674609   148.0   \n",
       "3                        ...                          1084939099   165.0   \n",
       "4                        ...                           284139100   132.0   \n",
       "\n",
       "                                spoken_languages    status  \\\n",
       "0                               English, Español  Released   \n",
       "1                                        English  Released   \n",
       "2  Français, English, Español, Italiano, Deutsch  Released   \n",
       "3                                        English  Released   \n",
       "4                                        English  Released   \n",
       "\n",
       "                                          tagline  \\\n",
       "0                     Enter the World of Pandora.   \n",
       "1  At the end of the world, the adventure begins.   \n",
       "2                           A Plan No One Escapes   \n",
       "3                                 The Legend Ends   \n",
       "4            Lost in our world, found in another.   \n",
       "\n",
       "                                      title vote_average vote_count  movie_id  \\\n",
       "0                                    Avatar          7.2      11800     19995   \n",
       "1  Pirates of the Caribbean: At World's End          6.9       4500       285   \n",
       "2                                   Spectre          6.3       4466    206647   \n",
       "3                     The Dark Knight Rises          7.6       9106     49026   \n",
       "4                               John Carter          6.1       2124     49529   \n",
       "\n",
       "                                                cast  \n",
       "0  Sam Worthington, Zoe Saldana, Sigourney Weaver...  \n",
       "1  Johnny Depp, Orlando Bloom, Keira Knightley, S...  \n",
       "2  Daniel Craig, Christoph Waltz, Léa Seydoux, Ra...  \n",
       "3  Christian Bale, Michael Caine, Gary Oldman, An...  \n",
       "4  Taylor Kitsch, Lynn Collins, Samantha Morton, ...  \n",
       "\n",
       "[5 rows x 22 columns]"
      ]
     },
     "execution_count": 49,
     "metadata": {},
     "output_type": "execute_result"
    }
   ],
   "source": [
    "import pandas as pd\n",
    "import numpy as np\n",
    "\n",
    "from sklearn.model_selection import cross_val_predict\n",
    "from sklearn.linear_model import LinearRegression\n",
    "from sklearn.linear_model import LogisticRegression\n",
    "from sklearn.ensemble import RandomForestRegressor\n",
    "from sklearn.ensemble import RandomForestClassifier\n",
    "from sklearn.metrics import accuracy_score\n",
    "from sklearn.metrics import r2_score\n",
    "\n",
    "import matplotlib.pyplot as plt\n",
    "\n",
    "df = pd.read_csv(\"https://courses.edx.org/asset-v1:HarvardX+PH526x+2T2019+type@asset+block@movie_data.csv\", index_col=0)\n",
    "\n",
    "# Enter code here.\n",
    "df.head()"
   ]
  },
  {
   "cell_type": "markdown",
   "metadata": {},
   "source": [
    "### Exercise 2\n",
    "\n",
    "In this exercise, we will define the regression and classification outcomes. Specifically, we will use the `revenue` column as the target for regression. For classification, we will construct an indicator of profitability for each movie.\n",
    "\n",
    "#### Instructions \n",
    "- Create a new column in `df` called `profitable`, defined as 1 if the movie `revenue` is greater than the movie `budget`, and 0 otherwise.\n",
    "- Next, define and store the outcomes we will use for regression and classification.\n",
    "    - Define `regression_target` as the string `'revenue'`.\n",
    "    - Define `classification_target` as the string `'profitable'`."
   ]
  },
  {
   "cell_type": "code",
   "execution_count": 50,
   "metadata": {},
   "outputs": [
    {
     "name": "stdout",
     "output_type": "stream",
     "text": [
      "2585\n",
      "4803\n"
     ]
    }
   ],
   "source": [
    "# Enter code here.\n",
    "df['profitable'] = (df.revenue > df.budget).astype(int)\n",
    "regression_target = 'revenue'\n",
    "classification_target = 'profitable'\n",
    "print(sum(df['profitable']))\n",
    "print(len(df))"
   ]
  },
  {
   "cell_type": "markdown",
   "metadata": {},
   "source": [
    "### Exercise 3\n",
    "\n",
    "For simplicity, we will proceed by analyzing only the rows without any missing data. In this exercise, we will remove rows with any infinite or missing values.\n",
    "\n",
    "#### Instructions \n",
    "\n",
    "- Use `df.replace()` to replace any cells with type `np.inf` or `-np.inf` with `np.nan`.\n",
    "- Drop all rows with any `np.nan` values in that row using `df.dropna()`. Do any further arguments need to be specified in this function to remove rows with any such values?"
   ]
  },
  {
   "cell_type": "code",
   "execution_count": 51,
   "metadata": {},
   "outputs": [
    {
     "name": "stdout",
     "output_type": "stream",
     "text": [
      "1406\n"
     ]
    }
   ],
   "source": [
    "df = df.replace(np.inf, np.nan)\n",
    "df = df.replace(-np.inf, np.nan)\n",
    "df = df.dropna()\n",
    "print(len(df))"
   ]
  },
  {
   "cell_type": "markdown",
   "metadata": {},
   "source": [
    "### Exercise 4\n",
    "\n",
    "Many of the variables in our dataframe contain the names of genre, actors/actresses, and keywords. Let's add indicator columns for each genre.\n",
    "\n",
    "#### Instructions \n",
    "\n",
    "- Determine all the genres in the genre column. Make sure to use the `strip()` function on each genre to remove trailing characters.\n",
    "- Next, include each listed genre as a new column in the dataframe. Each element of these genre columns should be 1 if the movie belongs to that particular genre, and 0 otherwise. Keep in mind, a movie may belong to several genres at once.\n",
    "- Call `df[genres].head()` to view your results."
   ]
  },
  {
   "cell_type": "code",
   "execution_count": 52,
   "metadata": {},
   "outputs": [
    {
     "data": {
      "text/plain": [
       "Index(['Action', 'Adventure', 'Fantasy', 'Science Fiction', 'Crime', 'Drama',\n",
       "       'Thriller', 'Animation', 'Family', 'Western', 'Comedy', 'Romance',\n",
       "       'Horror', 'Mystery', 'War', 'History', 'Music', 'Documentary',\n",
       "       'TV Movie', 'Foreign'],\n",
       "      dtype='object')"
      ]
     },
     "execution_count": 52,
     "metadata": {},
     "output_type": "execute_result"
    }
   ],
   "source": [
    "list_genres = df.genres.apply(lambda x: x.split(\",\"))\n",
    "genres = []\n",
    "for row in list_genres:\n",
    "    row = [genre.strip() for genre in row]\n",
    "    for genre in row:\n",
    "        if genre not in genres:\n",
    "            genres.append(genre)\n",
    "\n",
    "for genre in genres:\n",
    "    df[genre] = df['genres'].str.contains(genre).astype(int)\n",
    "\n",
    "df[genres].head()\n",
    "df[genres].columns"
   ]
  },
  {
   "cell_type": "markdown",
   "metadata": {},
   "source": [
    "### Exercise 5\n",
    "\n",
    "Some variables in the dataset are already numeric and perhaps useful for regression and classification. In this exercise, we will store the names of these variables for future use. We will also take a look at some of the continuous variables and outcomes by plotting each pair in a scatter plot. Finally, we will evaluate the skew of each variable.\n",
    "\n",
    "#### Instructions \n",
    "- Call `plt.show()` to observe the plot below.\n",
    "    - Which of the covariates and/or outcomes are correlated with each other?\n",
    "- Call `skew()` on the columns `outcomes_and_continuous_covariates` in df.\n",
    "    - Is the skew above 1 for any of these variables?"
   ]
  },
  {
   "cell_type": "code",
   "execution_count": 53,
   "metadata": {},
   "outputs": [
    {
     "data": {
      "image/png": "[encoded data removed]",
      "text/plain": [
       "<Figure size 432x288 with 9 Axes>"
      ]
     },
     "metadata": {
      "needs_background": "light"
     },
     "output_type": "display_data"
    },
    {
     "data": {
      "text/plain": [
       "budget          1.754872\n",
       "popularity      7.968139\n",
       "runtime         1.059804\n",
       "vote_count      2.461041\n",
       "vote_average   -1.080038\n",
       "revenue         3.084680\n",
       "profitable     -1.081030\n",
       "dtype: float64"
      ]
     },
     "execution_count": 53,
     "metadata": {},
     "output_type": "execute_result"
    }
   ],
   "source": [
    "continuous_covariates = ['budget', 'popularity', 'runtime', 'vote_count', 'vote_average']\n",
    "outcomes_and_continuous_covariates = continuous_covariates + [regression_target, classification_target]\n",
    "plotting_variables = ['budget', 'popularity', regression_target]\n",
    "\n",
    "axes = pd.plotting.scatter_matrix(df[plotting_variables], alpha=0.15, \\\n",
    "       color=(0,0,0), hist_kwds={\"color\":(0,0,0)}, facecolor=(1,0,0))\n",
    "# show the plot.\n",
    "plt.show()\n",
    "# determine the skew.\n",
    "df.skew(axis = 0, skipna = True) [outcomes_and_continuous_covariates]"
   ]
  },
  {
   "cell_type": "markdown",
   "metadata": {},
   "source": [
    "### Exercise 6\n",
    "\n",
    "It appears that the variables `budget`, `popularity`, `runtime`, `vote_count`, and `revenue` are all right-skewed. In this exercise, we will transform these variables to eliminate this skewness. Specifically, we will use the `np.log10()` method. Because some of these variable values are exactly 0, we will add a small positive value to each to ensure it is defined; this is necessary because log(0) is negative infinity.\n",
    "\n",
    "#### Instructions \n",
    "- For each above-mentioned variable in `df`, transform value `x` into `np.log10(1+x)`."
   ]
  },
  {
   "cell_type": "code",
   "execution_count": 55,
   "metadata": {},
   "outputs": [
    {
     "data": {
      "text/plain": [
       "budget         -3.205872\n",
       "popularity     -1.166747\n",
       "runtime         0.461748\n",
       "vote_count     -1.667956\n",
       "vote_average   -1.080038\n",
       "revenue        -2.499342\n",
       "profitable     -1.081030\n",
       "dtype: float64"
      ]
     },
     "execution_count": 55,
     "metadata": {},
     "output_type": "execute_result"
    }
   ],
   "source": [
    "for covariate in ['budget', 'popularity', 'runtime', 'vote_count', 'revenue']:\n",
    "    df[covariate] = df[covariate].apply(lambda x: np.log10(1+x))\n",
    "df.skew(axis = 0, skipna = True) [outcomes_and_continuous_covariates]"
   ]
  },
  {
   "cell_type": "markdown",
   "metadata": {},
   "source": [
    "### Exercise 7\n",
    "\n",
    "Let's now save our dataset. \n",
    "\n",
    "#### Instructions \n",
    "- Use `to_csv()` to save the `df` object as `movies_clean.csv`."
   ]
  },
  {
   "cell_type": "code",
   "execution_count": 56,
   "metadata": {},
   "outputs": [],
   "source": [
    "# Enter your code here\n",
    "df.to_csv('movies_clean.csv')"
   ]
  },
  {
   "cell_type": "code",
   "execution_count": null,
   "metadata": {},
   "outputs": [],
   "source": []
  }
 ],
 "metadata": {
  "kernelspec": {
   "display_name": "Python 3",
   "language": "python",
   "name": "python3"
  },
  "language_info": {
   "codemirror_mode": {
    "name": "ipython",
    "version": 3
   },
   "file_extension": ".py",
   "mimetype": "text/x-python",
   "name": "python",
   "nbconvert_exporter": "python",
   "pygments_lexer": "ipython3",
   "version": "3.7.0"
  }
 },
 "nbformat": 4,
 "nbformat_minor": 2
}
